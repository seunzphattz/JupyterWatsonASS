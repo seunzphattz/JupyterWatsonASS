{
 "cells": [
  {
   "cell_type": "markdown",
   "id": "e72f9a1b",
   "metadata": {},
   "source": [
    "# My Jupiter Notebook on IBM watson studio "
   ]
  },
  {
   "cell_type": "markdown",
   "id": "35a848cb",
   "metadata": {},
   "source": [
    "## Fatinikun Seun \n",
    "Data scientist"
   ]
  },
  {
   "cell_type": "markdown",
   "id": "e902c47d",
   "metadata": {},
   "source": [
    "_I love Data science because I see it is one of the sciences available For ARRANGING Object(Data) and also for deriving insights from objects(data). It helps arranging things(data). Jokily I will say if you can learn the art of arranging things, then you will always get lots of insights from data which can give you solution to most of lifes problem. \"Data Science is the sexiest job of the 21th century\", Harvard._\n"
   ]
  },
  {
   "cell_type": "markdown",
   "id": "d5d79d7c",
   "metadata": {},
   "source": [
    "This is a code that will print a variable "
   ]
  },
  {
   "cell_type": "code",
   "execution_count": 1,
   "id": "c2718358",
   "metadata": {},
   "outputs": [
    {
     "name": "stdout",
     "output_type": "stream",
     "text": [
      "3\n"
     ]
    }
   ],
   "source": [
    "x= 1 + 2\n",
    "print(x)"
   ]
  },
  {
   "cell_type": "markdown",
   "id": "33726945",
   "metadata": {},
   "source": [
    "Cell 6 (rendered as Markdown): Using Markdown or HTML, this cell must include at least 3 of the following: horizontal rule, bulleted list, numbered list, tables, hyperlinks, images, code/syntax highlighting, blocked quotes, strikethrough."
   ]
  },
  {
   "cell_type": "markdown",
   "id": "a316b9a4",
   "metadata": {},
   "source": [
    "1. Numbered\n",
    "1. cool\n",
    "1. lucky\n",
    "1. sade\n",
    "\n",
    "\n",
    "***\n",
    "- olu\n",
    "- tope\n",
    "\n",
    "__[Clicking this will take you to google](http://www.google.com)__\n"
   ]
  },
  {
   "cell_type": "code",
   "execution_count": null,
   "id": "e4631888",
   "metadata": {},
   "outputs": [],
   "source": []
  }
 ],
 "metadata": {
  "kernelspec": {
   "display_name": "Python 3",
   "language": "python",
   "name": "python3"
  },
  "language_info": {
   "codemirror_mode": {
    "name": "ipython",
    "version": 3
   },
   "file_extension": ".py",
   "mimetype": "text/x-python",
   "name": "python",
   "nbconvert_exporter": "python",
   "pygments_lexer": "ipython3",
   "version": "3.8.8"
  }
 },
 "nbformat": 4,
 "nbformat_minor": 5
}
